{
 "cells": [
  {
   "cell_type": "code",
   "execution_count": 1,
   "metadata": {},
   "outputs": [],
   "source": [
    "# Problem 1: Arrange Guest Arrival Order"
   ]
  },
  {
   "cell_type": "code",
   "execution_count": 2,
   "metadata": {},
   "outputs": [],
   "source": [
    "# You are organizing a prestigious event, and you must arrange the order in which guests arrive based on their status. The sequence is dictated by a 0-indexed string arrival_pattern of length n, consisting of the characters 'I' meaning the next guest should have a higher status than the previous one, and 'D' meaning the next guest should have a lower status than the previous one.\n",
    "\n",
    "# You need to create a 0-indexed string guest_order of length n + 1 that satisfies the following conditions:\n",
    "\n",
    "# guest_order consists of the digits '1' to '9', where each digit represents the guest's status and is used at most once.\n",
    "# If arrival_pattern[i] == 'I', then guest_order[i] < guest_order[i + 1].\n",
    "# If arrival_pattern[i] == 'D', then guest_order[i] > guest_order[i + 1].\n",
    "# Return the lexicographically smallest possible string guest_order that meets the conditions."
   ]
  },
  {
   "cell_type": "code",
   "execution_count": 16,
   "metadata": {},
   "outputs": [],
   "source": [
    "from collections import deque\n",
    "\n",
    "def arrange_guest_arrival_order(arrival_pattern):\n",
    "    # guest order has max length of 9 digits\n",
    "    length = len(arrival_pattern)\n",
    "    guests = [1,2,3,4,5,6,7,8,9]\n",
    "    possible_guests = guests[0:length+1]\n",
    "    ret = []\n",
    "    stack = []\n",
    "    counter = 2\n",
    "    for i in range(0,len(arrival_pattern)+1):\n",
    "        if i < len(arrival_pattern) and arrival_pattern[i] == 'D':\n",
    "            stack.append(i+1)\n",
    "        else:\n",
    "            stack.append(i+1)\n",
    "            while stack:\n",
    "                ret.append(stack.pop())\n",
    "            \n",
    "        counter += 1\n",
    "    while stack:\n",
    "        ret.append(stack.pop())\n",
    "    return ret    "
   ]
  },
  {
   "cell_type": "code",
   "execution_count": 19,
   "metadata": {},
   "outputs": [
    {
     "name": "stdout",
     "output_type": "stream",
     "text": [
      "[1, 2, 3, 5, 4, 9, 8, 7, 6]\n",
      "[4, 3, 2, 1]\n",
      "[2, 1, 3, 4]\n",
      "[1, 2, 3, 6, 5, 4, 8, 7]\n"
     ]
    }
   ],
   "source": [
    "print(arrange_guest_arrival_order(\"IIIDIDDD\"))  \n",
    "print(arrange_guest_arrival_order(\"DDD\"))  \n",
    "print(arrange_guest_arrival_order(\"DII\"))\n",
    "print(arrange_guest_arrival_order(\"IIIDDID\"))\n",
    "# IIIDDID\n",
    "# 12365487\n",
    "# DII\n",
    "# 2134\n",
    "# Expected\n",
    "# 123549876\n",
    "# 4321\n",
    "# Monotonic stack (study)\n",
    "# Keeping the stack increasing or decreasing, dump stack once order is changed"
   ]
  },
  {
   "cell_type": "code",
   "execution_count": null,
   "metadata": {},
   "outputs": [],
   "source": []
  }
 ],
 "metadata": {
  "kernelspec": {
   "display_name": "Python 3",
   "language": "python",
   "name": "python3"
  },
  "language_info": {
   "codemirror_mode": {
    "name": "ipython",
    "version": 3
   },
   "file_extension": ".py",
   "mimetype": "text/x-python",
   "name": "python",
   "nbconvert_exporter": "python",
   "pygments_lexer": "ipython3",
   "version": "3.11.2"
  }
 },
 "nbformat": 4,
 "nbformat_minor": 2
}
