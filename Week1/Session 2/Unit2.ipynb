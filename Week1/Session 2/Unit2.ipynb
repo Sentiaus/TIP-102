{
 "cells": [
  {
   "cell_type": "code",
   "execution_count": 60,
   "metadata": {},
   "outputs": [],
   "source": [
    "# Problem 1: Counting Treasure\n",
    "# Captain Blackbeard has a treasure map with several clues that point to different locations on an island. Each clue is associated with a specific location and the number of treasures buried there. Given a dictionary treasure_map where keys are location names and values are integers representing the number of treasures buried at those locations, write a function total_treasures() that returns the total number of treasures buried on the island.\n"
   ]
  },
  {
   "cell_type": "code",
   "execution_count": 61,
   "metadata": {},
   "outputs": [],
   "source": [
    "def total_treasures(treasure_map):\n",
    "    # Given a hashmap, we want to loop through the values and return the sum of the values.\n",
    "    total = 0\n",
    "    # for val in treasure_map.values():\n",
    "    #     total += val\n",
    "    total = sum(treasure_map.values())\n",
    "    return total"
   ]
  },
  {
   "cell_type": "code",
   "execution_count": 62,
   "metadata": {},
   "outputs": [
    {
     "name": "stdout",
     "output_type": "stream",
     "text": [
      "15\n",
      "50\n"
     ]
    }
   ],
   "source": [
    "treasure_map1 = {\n",
    "    \"Cove\": 3,\n",
    "    \"Beach\": 7,\n",
    "    \"Forest\": 5\n",
    "}\n",
    "\n",
    "treasure_map2 = {\n",
    "    \"Shipwreck\": 10,\n",
    "    \"Cave\": 20,\n",
    "    \"Lagoon\": 15,\n",
    "    \"Island Peak\": 5\n",
    "}\n",
    "\n",
    "print(total_treasures(treasure_map1)) \n",
    "print(total_treasures(treasure_map2))\n",
    "\n",
    "# Expected Output:\n",
    "# 15\n",
    "# 50"
   ]
  },
  {
   "cell_type": "code",
   "execution_count": 63,
   "metadata": {},
   "outputs": [],
   "source": [
    "# Problem 2: Pirate Message Check\n",
    "# Taken captive, Captain Anne Bonny has been smuggled a secret message from her crew. She will know she can trust the message if it contains all of the letters in the alphabet. Given a string message containing only lowercase English letters and whitespace, write a function can_trust_message() that returns True if the message contains every letter of the English alphabet at least once, and False otherwise."
   ]
  },
  {
   "cell_type": "code",
   "execution_count": 64,
   "metadata": {},
   "outputs": [],
   "source": [
    "def can_trust_message(message):\n",
    "    # Create a set out of the letters in the message (removes duplicates)\n",
    "    # Because we only have lowercase, english letters, we return true if the length of the messages set equals the length of the english alphabet (26)\n",
    "    message_set = set()\n",
    "    for ch in message:\n",
    "        if ch != \" \":\n",
    "            message_set.add(ch)\n",
    "    return len(message_set) == 26"
   ]
  },
  {
   "cell_type": "code",
   "execution_count": 66,
   "metadata": {},
   "outputs": [
    {
     "name": "stdout",
     "output_type": "stream",
     "text": [
      "True\n",
      "False\n"
     ]
    }
   ],
   "source": [
    "message1 = \"sphinx of black quartz judge my vow\"\n",
    "message2 = \"trust me\"\n",
    "\n",
    "print(can_trust_message(message1))\n",
    "print(can_trust_message(message2))\n",
    "\n",
    "# Expected Output\n",
    "# True\n",
    "# False"
   ]
  },
  {
   "cell_type": "code",
   "execution_count": 67,
   "metadata": {},
   "outputs": [],
   "source": [
    "# Problem 3: Find All Duplicate Treasure Chests in an Array\n",
    "# Captain Blackbeard has an integer array chests of length n where all the integers in chests are in the range [1, n] and each integer appears once or twice. Return an array of all the integers that appear twice, representing the treasure chests that have duplicates."
   ]
  },
  {
   "cell_type": "code",
   "execution_count": 68,
   "metadata": {},
   "outputs": [],
   "source": [
    "def find_duplicate_chests(chests):\n",
    "    # Create frequency map of chests. If chest appears more than once, it's a duplicate, so add it to return array.\n",
    "    # chests_Dict ={}\n",
    "    ret = []\n",
    "    # for val in chests:\n",
    "    #     if val in chests_Dict:\n",
    "    #         ret.append(val)\n",
    "    #     else:\n",
    "    #         chests_Dict[val] = 1\n",
    "    \n",
    "\n",
    "    chests_Set = set()\n",
    "    # Alternatively, use a set\n",
    "    for val in chests:\n",
    "        if val in chests_Set:\n",
    "            ret.append(val)\n",
    "        else:\n",
    "            chests_Set.add(val)\n",
    "    return ret\n",
    "            "
   ]
  },
  {
   "cell_type": "code",
   "execution_count": 56,
   "metadata": {},
   "outputs": [
    {
     "name": "stdout",
     "output_type": "stream",
     "text": [
      "[2, 3]\n",
      "[1]\n",
      "[]\n"
     ]
    }
   ],
   "source": [
    "chests1 = [4, 3, 2, 7, 8, 2, 3, 1]\n",
    "chests2 = [1, 1, 2]\n",
    "chests3 = [1]\n",
    "\n",
    "print(find_duplicate_chests(chests1))\n",
    "print(find_duplicate_chests(chests2))\n",
    "print(find_duplicate_chests(chests3))\n",
    "\n",
    "# Expected Output:\n",
    "# [2, 3]\n",
    "# [1]\n",
    "# []"
   ]
  },
  {
   "cell_type": "code",
   "execution_count": 69,
   "metadata": {},
   "outputs": [],
   "source": [
    "# Problem 4: Booby Trap\n",
    "# Desc:\n",
    "# Captain Feathersword has found another pirate's buried treasure, but they suspect it's booby-trapped. The treasure chest has a secret code written in pirate language, and Captain Feathersword believes the trap can be disarmed if the code can be balanced. A balanced code is one where the frequency of every letter present in the code is equal. To disable the trap, Captain Feathersword must remove exactly one letter from the message. Help Captain Feathersword determine if it's possible to remove one letter to balance the pirate code.\n",
    "\n",
    "# Given a 0-indexed string code consisting of only lowercase English letters, write a function is_balanced() that returns True if it's possible to remove one letter so that the frequency of all remaining letters is equal, and False otherwise.\n"
   ]
  },
  {
   "cell_type": "code",
   "execution_count": 70,
   "metadata": {},
   "outputs": [],
   "source": [
    "def is_balanced(code):\n",
    "    letters_Dict = {}\n",
    "    # Create frequency map of letters\n",
    "    for val in code:\n",
    "        if val in letters_Dict:\n",
    "            letters_Dict[val] += 1\n",
    "        else:\n",
    "            letters_Dict[val] = 1\n",
    "    # remove duplicate frequencies via set\n",
    "    \n",
    "    duplicate_\n",
    "    for val in letters_Dict.values():\n",
    "        if val not in freq_of_freaks:\n",
    "            freq_of_freaks.append(val)\n",
    "        else:\n",
    "            \n",
    "    \n",
    "    # if theres only two frequencies, check if the frequencies are only off by 1, otherwise return false\n",
    "    # if len(s) == 2:\n",
    "    #     if abs(s.pop() - s.pop()) == 1:\n",
    "    #         return True\n",
    "    # return False\n",
    "    \n",
    "        "
   ]
  },
  {
   "cell_type": "code",
   "execution_count": 72,
   "metadata": {},
   "outputs": [
    {
     "name": "stdout",
     "output_type": "stream",
     "text": [
      "True\n",
      "False\n"
     ]
    }
   ],
   "source": [
    "code1 = \"argghh\"\n",
    "code2 = \"haha\"\n",
    "\n",
    "print(is_balanced(code1)) \n",
    "print(is_balanced(code2)) \n",
    "\n",
    "# Expected Output:\n",
    "# True\n",
    "# False"
   ]
  },
  {
   "cell_type": "code",
   "execution_count": null,
   "metadata": {},
   "outputs": [],
   "source": []
  }
 ],
 "metadata": {
  "kernelspec": {
   "display_name": "Python 3",
   "language": "python",
   "name": "python3"
  },
  "language_info": {
   "codemirror_mode": {
    "name": "ipython",
    "version": 3
   },
   "file_extension": ".py",
   "mimetype": "text/x-python",
   "name": "python",
   "nbconvert_exporter": "python",
   "pygments_lexer": "ipython3",
   "version": "3.11.2"
  }
 },
 "nbformat": 4,
 "nbformat_minor": 2
}
